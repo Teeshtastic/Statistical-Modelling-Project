{
 "cells": [
  {
   "cell_type": "markdown",
   "metadata": {},
   "source": [
    "# Foursquare"
   ]
  },
  {
   "cell_type": "markdown",
   "metadata": {},
   "source": [
    "Send a request to Foursquare with a small radius (1000m) for all the bike stations in your city of choice. "
   ]
  },
  {
   "cell_type": "code",
   "execution_count": 1,
   "metadata": {},
   "outputs": [],
   "source": [
    "import requests\n",
    "import time\n",
    "import logging\n",
    "import pandas as pd\n",
    "logging.basicConfig(level=logging.INFO)\n",
    "\n",
    "# API Keys\n",
    "FOURSQUARE_API_KEY = \"fsq31DSn1KRJPdC/gOri5ab7GA2IX4dWhKTCH/nfGOjXPtg=\"\n",
    "YELP_API_KEY = \"2vJZU9b6J9f4qUjmHONKfQYb9LlWrgmGdSF7EhzzsNtBEKDiaje2fCnJEN7ADuzcmGAjl2pZOCMBqEW_1NGIBI4tNksgQ9AE1Y_4GzA2BG1DqHeenXh8pAo0GVUAaHYx\"\n",
    "\n",
    "# Define headers\n",
    "foursquare_headers = {\n",
    "    \"Authorization\": f\"Bearer {FOURSQUARE_API_KEY}\"\n",
    "}\n",
    "\n",
    "yelp_headers = {\n",
    "    \"Authorization\": f\"Bearer {YELP_API_KEY}\"\n",
    "}\n"
   ]
  },
  {
   "cell_type": "code",
   "execution_count": 3,
   "metadata": {},
   "outputs": [
    {
     "name": "stdout",
     "output_type": "stream",
     "text": [
      "Loaded 797 stations\n",
      "{'name': '300073 - Prince of Wales Drive, Battersea Park', 'latitude': 51.47515398, 'longitude': -0.159169801, 'free_bikes': 13, 'empty_slots': 5, 'total_bikes': 18}\n"
     ]
    }
   ],
   "source": [
    "# Load the CSV file containing London bike stations\n",
    "london_bike_stations_df = pd.read_csv('london_bike_stations.csv')  # use single underscore\n",
    "\n",
    "# Convert to list of dictionaries\n",
    "london_stations = london_bike_stations_df.to_dict(orient='records')\n",
    "\n",
    "# Quick check\n",
    "print(f\"Loaded {len(london_stations)} stations\")\n",
    "print(london_stations[0])"
   ]
  },
  {
   "cell_type": "code",
   "execution_count": 4,
   "metadata": {},
   "outputs": [
    {
     "name": "stderr",
     "output_type": "stream",
     "text": [
      "WARNING:root:Error 401: {\"message\":\"Invalid request token.\"}. Retrying...\n",
      "WARNING:root:Error 401: {\"message\":\"Invalid request token.\"}. Retrying...\n"
     ]
    },
    {
     "ename": "KeyboardInterrupt",
     "evalue": "",
     "output_type": "error",
     "traceback": [
      "\u001b[0;31m---------------------------------------------------------------------------\u001b[0m",
      "\u001b[0;31mKeyboardInterrupt\u001b[0m                         Traceback (most recent call last)",
      "Cell \u001b[0;32mIn[4], line 46\u001b[0m\n\u001b[1;32m     43\u001b[0m station_name \u001b[38;5;241m=\u001b[39m station[\u001b[38;5;124m'\u001b[39m\u001b[38;5;124mname\u001b[39m\u001b[38;5;124m'\u001b[39m]\n\u001b[1;32m     45\u001b[0m \u001b[38;5;66;03m# Restaurants near station\u001b[39;00m\n\u001b[0;32m---> 46\u001b[0m restaurant_results \u001b[38;5;241m=\u001b[39m \u001b[43msearch_foursquare\u001b[49m\u001b[43m(\u001b[49m\u001b[43mlat\u001b[49m\u001b[43m,\u001b[49m\u001b[43m \u001b[49m\u001b[43mlon\u001b[49m\u001b[43m,\u001b[49m\u001b[43m \u001b[49m\u001b[43mradius\u001b[49m\u001b[38;5;241;43m=\u001b[39;49m\u001b[38;5;241;43m1000\u001b[39;49m\u001b[43m,\u001b[49m\u001b[43m \u001b[49m\u001b[43mlimit\u001b[49m\u001b[38;5;241;43m=\u001b[39;49m\u001b[38;5;241;43m20\u001b[39;49m\u001b[43m,\u001b[49m\u001b[43m \u001b[49m\u001b[43mquery\u001b[49m\u001b[38;5;241;43m=\u001b[39;49m\u001b[38;5;124;43m\"\u001b[39;49m\u001b[38;5;124;43mrestaurant\u001b[39;49m\u001b[38;5;124;43m\"\u001b[39;49m\u001b[43m)\u001b[49m\n\u001b[1;32m     47\u001b[0m \u001b[38;5;28;01mfor\u001b[39;00m place \u001b[38;5;129;01min\u001b[39;00m restaurant_results:\n\u001b[1;32m     48\u001b[0m     poi_name \u001b[38;5;241m=\u001b[39m place\u001b[38;5;241m.\u001b[39mget(\u001b[38;5;124m\"\u001b[39m\u001b[38;5;124mname\u001b[39m\u001b[38;5;124m\"\u001b[39m, \u001b[38;5;124m\"\u001b[39m\u001b[38;5;124mUnknown\u001b[39m\u001b[38;5;124m\"\u001b[39m)\n",
      "Cell \u001b[0;32mIn[4], line 23\u001b[0m, in \u001b[0;36msearch_foursquare\u001b[0;34m(lat, lon, radius, limit, query, category_ids, retries)\u001b[0m\n\u001b[1;32m     21\u001b[0m     \u001b[38;5;28;01melse\u001b[39;00m:\n\u001b[1;32m     22\u001b[0m         logging\u001b[38;5;241m.\u001b[39mwarning(\u001b[38;5;124mf\u001b[39m\u001b[38;5;124m\"\u001b[39m\u001b[38;5;124mError \u001b[39m\u001b[38;5;132;01m{\u001b[39;00mresponse\u001b[38;5;241m.\u001b[39mstatus_code\u001b[38;5;132;01m}\u001b[39;00m\u001b[38;5;124m: \u001b[39m\u001b[38;5;132;01m{\u001b[39;00mresponse\u001b[38;5;241m.\u001b[39mtext\u001b[38;5;132;01m}\u001b[39;00m\u001b[38;5;124m. Retrying...\u001b[39m\u001b[38;5;124m\"\u001b[39m)\n\u001b[0;32m---> 23\u001b[0m         \u001b[43mtime\u001b[49m\u001b[38;5;241;43m.\u001b[39;49m\u001b[43msleep\u001b[49m\u001b[43m(\u001b[49m\u001b[38;5;241;43m2\u001b[39;49m\u001b[43m)\u001b[49m\n\u001b[1;32m     24\u001b[0m \u001b[38;5;28;01mreturn\u001b[39;00m []\n",
      "\u001b[0;31mKeyboardInterrupt\u001b[0m: "
     ]
    }
   ],
   "source": [
    "foursquare_headers = {\n",
    "    \"Authorization\": f\"Bearer {FOURSQUARE_API_KEY}\"\n",
    "}\n",
    "# Define foursquare search function with retry logic\n",
    "def search_foursquare(lat, lon, radius=1000, limit=20, query=None, category_ids=None, retries=3):\n",
    "    url = \"https://api.foursquare.com/v3/places/search\"\n",
    "    params = {\n",
    "        \"ll\": f\"{lat},{lon}\",\n",
    "        \"radius\": radius,\n",
    "        \"limit\": limit\n",
    "    }\n",
    "    if query:\n",
    "        params[\"query\"] = query\n",
    "    if category_ids:\n",
    "        params[\"categories\"] = ','.join(map(str, category_ids))\n",
    "\n",
    "    for _ in range(retries):\n",
    "        response = requests.get(url, headers=foursquare_headers, params=params)\n",
    "        if response.status_code == 200:\n",
    "            return response.json().get(\"results\", [])\n",
    "        else:\n",
    "            logging.warning(f\"Error {response.status_code}: {response.text}. Retrying...\")\n",
    "            time.sleep(2)\n",
    "    return []\n",
    "\n",
    "# Category IDs for transport-related places\n",
    "transport_category_ids = [\n",
    "    19042,  # Bus Station\n",
    "    19043,  # Bus Stop\n",
    "    19066,  # Train Station\n",
    "    19067,  # Bus Line\n",
    "    19068,  # Taxi Service\n",
    "    19063   # Light Rail Station\n",
    "]\n",
    "\n",
    "# Store all results\n",
    "all_results = []\n",
    "\n",
    "# Loop through bike stations and query foursquare\n",
    "for station in london_stations:\n",
    "    lat = station['latitude']\n",
    "    lon = station['longitude']\n",
    "    station_name = station['name']\n",
    "\n",
    "    # Restaurants near station\n",
    "    restaurant_results = search_foursquare(lat, lon, radius=1000, limit=20, query=\"restaurant\")\n",
    "    for place in restaurant_results:\n",
    "        poi_name = place.get(\"name\", \"Unknown\")\n",
    "        poi_latitude = place.get(\"geocodes\", {}).get(\"main\", {}).get(\"latitude\")\n",
    "        poi_longitude = place.get(\"geocodes\", {}).get(\"main\", {}).get(\"longitude\")\n",
    "        categories = [cat[\"name\"] for cat in place.get(\"categories\", [])] or [\"No categories\"]\n",
    "        address = place.get(\"location\", {}).get(\"formatted_address\", \"No address provided\")\n",
    "\n",
    "        all_results.append({\n",
    "            \"station\": station_name,\n",
    "            \"poi_type\": \"restaurant\",\n",
    "            \"poi_name\": poi_name,\n",
    "            \"poi_latitude\": poi_latitude,\n",
    "            \"poi_longitude\": poi_longitude,\n",
    "            \"categories\": categories,\n",
    "            \"distance\": place.get(\"distance\", \"N/A\"),\n",
    "            \"address\": address\n",
    "        })\n",
    "\n",
    "    # Transport POIs near station\n",
    "    transport_results = search_foursquare(lat, lon, radius=1000, limit=20, category_ids=transport_category_ids)\n",
    "    for place in transport_results:\n",
    "        poi_name = place.get(\"name\", \"Unknown\")\n",
    "        poi_latitude = place.get(\"geocodes\", {}).get(\"main\", {}).get(\"latitude\")\n",
    "        poi_longitude = place.get(\"geocodes\", {}).get(\"main\", {}).get(\"longitude\")\n",
    "        categories = [cat[\"name\"] for cat in place.get(\"categories\", [])] or [\"No categories\"]\n",
    "        address = place.get(\"location\", {}).get(\"formatted_address\", \"No address provided\")\n",
    "\n",
    "        all_results.append({\n",
    "            \"station\": station_name,\n",
    "            \"poi_type\": \"transport\",\n",
    "            \"poi_name\": poi_name,\n",
    "            \"poi_latitude\": poi_latitude,\n",
    "            \"poi_longitude\": poi_longitude,\n",
    "            \"categories\": categories,\n",
    "            \"distance\": place.get(\"distance\", \"N/A\"),\n",
    "            \"address\": address\n",
    "        })\n",
    "\n",
    "# Save results\n",
    "df_results = pd.DataFrame(all_results)\n",
    "df_results.to_csv(\"london_stations_stations_pois_fs.csv\", index=False)\n",
    "logging.info(\"Saved to london_stations_pois_fs.csv\")"
   ]
  },
  {
   "cell_type": "markdown",
   "metadata": {},
   "source": [
    "Send a request to Yelp with a small radius (1000m) for all the bike stations in your city of choice. "
   ]
  },
  {
   "cell_type": "code",
   "execution_count": 7,
   "metadata": {},
   "outputs": [
    {
     "name": "stderr",
     "output_type": "stream",
     "text": [
      "INFO:root:Querying for POIs near: 300073 - Prince of Wales Drive, Battersea Park\n"
     ]
    },
    {
     "ename": "NameError",
     "evalue": "name 'headers' is not defined",
     "output_type": "error",
     "traceback": [
      "\u001b[0;31m---------------------------------------------------------------------------\u001b[0m",
      "\u001b[0;31mNameError\u001b[0m                                 Traceback (most recent call last)",
      "Cell \u001b[0;32mIn[7], line 41\u001b[0m\n\u001b[1;32m     38\u001b[0m station_name \u001b[38;5;241m=\u001b[39m station[\u001b[38;5;124m'\u001b[39m\u001b[38;5;124mname\u001b[39m\u001b[38;5;124m'\u001b[39m]  \u001b[38;5;66;03m# Adjust to your DataFrame column!\u001b[39;00m\n\u001b[1;32m     39\u001b[0m logging\u001b[38;5;241m.\u001b[39minfo(\u001b[38;5;124mf\u001b[39m\u001b[38;5;124m\"\u001b[39m\u001b[38;5;124mQuerying for POIs near: \u001b[39m\u001b[38;5;132;01m{\u001b[39;00mstation_name\u001b[38;5;132;01m}\u001b[39;00m\u001b[38;5;124m\"\u001b[39m)\n\u001b[0;32m---> 41\u001b[0m results \u001b[38;5;241m=\u001b[39m \u001b[43mquery_yelp\u001b[49m\u001b[43m(\u001b[49m\u001b[43mlat\u001b[49m\u001b[43m,\u001b[49m\u001b[43m \u001b[49m\u001b[43mlon\u001b[49m\u001b[43m,\u001b[49m\u001b[43m \u001b[49m\u001b[43mradius\u001b[49m\u001b[38;5;241;43m=\u001b[39;49m\u001b[38;5;241;43m5000\u001b[39;49m\u001b[43m)\u001b[49m  \u001b[38;5;66;03m# Increased radius!\u001b[39;00m\n\u001b[1;32m     43\u001b[0m logging\u001b[38;5;241m.\u001b[39minfo(\u001b[38;5;124mf\u001b[39m\u001b[38;5;124m\"\u001b[39m\u001b[38;5;124mFound \u001b[39m\u001b[38;5;132;01m{\u001b[39;00m\u001b[38;5;28mlen\u001b[39m(results)\u001b[38;5;132;01m}\u001b[39;00m\u001b[38;5;124m businesses for station \u001b[39m\u001b[38;5;132;01m{\u001b[39;00mstation_name\u001b[38;5;132;01m}\u001b[39;00m\u001b[38;5;124m\"\u001b[39m)\n\u001b[1;32m     45\u001b[0m \u001b[38;5;28;01mif\u001b[39;00m \u001b[38;5;129;01mnot\u001b[39;00m results:\n",
      "Cell \u001b[0;32mIn[7], line 21\u001b[0m, in \u001b[0;36mquery_yelp\u001b[0;34m(lat, lon, categories, radius, limit)\u001b[0m\n\u001b[1;32m     13\u001b[0m params \u001b[38;5;241m=\u001b[39m {\n\u001b[1;32m     14\u001b[0m     \u001b[38;5;124m\"\u001b[39m\u001b[38;5;124mlatitude\u001b[39m\u001b[38;5;124m\"\u001b[39m: lat,\n\u001b[1;32m     15\u001b[0m     \u001b[38;5;124m\"\u001b[39m\u001b[38;5;124mlongitude\u001b[39m\u001b[38;5;124m\"\u001b[39m: lon,\n\u001b[0;32m   (...)\u001b[0m\n\u001b[1;32m     18\u001b[0m     \u001b[38;5;124m\"\u001b[39m\u001b[38;5;124mlimit\u001b[39m\u001b[38;5;124m\"\u001b[39m: limit\n\u001b[1;32m     19\u001b[0m }\n\u001b[1;32m     20\u001b[0m \u001b[38;5;28;01mtry\u001b[39;00m:\n\u001b[0;32m---> 21\u001b[0m     response \u001b[38;5;241m=\u001b[39m requests\u001b[38;5;241m.\u001b[39mget(url, headers\u001b[38;5;241m=\u001b[39m\u001b[43mheaders\u001b[49m, params\u001b[38;5;241m=\u001b[39mparams)\n\u001b[1;32m     22\u001b[0m     response\u001b[38;5;241m.\u001b[39mraise_for_status()  \u001b[38;5;66;03m# Raise an exception for HTTP errors\u001b[39;00m\n\u001b[1;32m     23\u001b[0m     \u001b[38;5;28;01mreturn\u001b[39;00m response\u001b[38;5;241m.\u001b[39mjson()\u001b[38;5;241m.\u001b[39mget(\u001b[38;5;124m\"\u001b[39m\u001b[38;5;124mbusinesses\u001b[39m\u001b[38;5;124m\"\u001b[39m, [])\n",
      "\u001b[0;31mNameError\u001b[0m: name 'headers' is not defined"
     ]
    }
   ],
   "source": [
    "# Set up logging\n",
    "logging.basicConfig(level=logging.INFO)\n",
    "\n",
    "yelp_headers = {\n",
    "    \"Authorization\": f\"Bearer {YELP_API_KEY}\"\n",
    "\n",
    "}\n",
    "\n",
    "# Function to query Yelp API and get business results\n",
    "def query_yelp(lat, lon, categories=\"restaurants\", radius=1000, limit=50):\n",
    "    \"\"\"Function to query Yelp API and get business results\"\"\"\n",
    "    url = \"https://api.yelp.com/v3/businesses/search\"\n",
    "    params = {\n",
    "        \"latitude\": lat,\n",
    "        \"longitude\": lon,\n",
    "        \"radius\": radius,\n",
    "        \"categories\": categories,\n",
    "        \"limit\": limit\n",
    "    }\n",
    "    try:\n",
    "        response = requests.get(url, headers=headers, params=params)\n",
    "        response.raise_for_status()  # Raise an exception for HTTP errors\n",
    "        return response.json().get(\"businesses\", [])\n",
    "    except requests.exceptions.RequestException as e:\n",
    "        logging.error(f\"Request failed: {e}\")\n",
    "        return []\n",
    "\n",
    "# Load your London bike stations\n",
    "london_stations_df = pd.read_csv('london_bike_stations.csv')\n",
    "\n",
    "# Prepare list to collect venue data\n",
    "all_venue_data = []\n",
    "\n",
    "# Loop through each station and collect Yelp data\n",
    "for index, station in london_stations_df.iterrows():\n",
    "    lat = station['latitude']\n",
    "    lon = station['longitude']\n",
    "    station_name = station['name']  # Adjust to your DataFrame column!\n",
    "    logging.info(f\"Querying for POIs near: {station_name}\")\n",
    "\n",
    "    results = query_yelp(lat, lon, radius=5000)  # Increased radius!\n",
    "\n",
    "    logging.info(f\"Found {len(results)} businesses for station {station_name}\")\n",
    "\n",
    "    if not results:\n",
    "        continue\n",
    "\n",
    "    for business in results:\n",
    "        venue_details = {\n",
    "            \"station_name\": station_name,\n",
    "            \"latitude\": lat,\n",
    "            \"longitude\": lon,\n",
    "            \"business_name\": business.get(\"name\"),\n",
    "            \"rating\": business.get(\"rating\"),\n",
    "            \"review_count\": business.get(\"review_count\"),\n",
    "            \"distance_m\": business.get(\"distance\"),\n",
    "            \"business_latitude\": business[\"coordinates\"].get(\"latitude\"),\n",
    "            \"business_longitude\": business[\"coordinates\"].get(\"longitude\"),\n",
    "            \"categories\": \", \".join([cat[\"title\"] for cat in business.get(\"categories\", [])]),\n",
    "            \"address\": business[\"location\"].get(\"address1\", \"\"),\n",
    "            \"city\": business[\"location\"].get(\"city\", \"\"),\n",
    "            \"state\": business[\"location\"].get(\"state\", \"\"),\n",
    "            \"postal_code\": business[\"location\"].get(\"zip_code\", \"\"),\n",
    "        }\n",
    "        all_venue_data.append(venue_details)\n",
    "\n",
    "    # Respect API rate limits\n",
    "    time.sleep(1)\n",
    "\n",
    "# Log the collected data\n",
    "logging.info(f\"Collected data for {len(all_venue_data)} venues.\")\n",
    "\n",
    "# Convert to DataFrame and save\n",
    "df_venues = pd.DataFrame(all_venue_data)\n",
    "df_venues.to_csv(\"london_bike_stations_pois_yelp.csv\", index=False)\n",
    "logging.info(\"Data saved to london_bike_stations_pois_yelp.csv\")"
   ]
  },
  {
   "cell_type": "markdown",
   "metadata": {},
   "source": [
    "# YELP"
   ]
  },
  {
   "cell_type": "markdown",
   "metadata": {},
   "source": [
    "Parse through the response to get the POI (such as restaurants, bars, etc) details you want (ratings, name, location, etc)"
   ]
  },
  {
   "cell_type": "code",
   "execution_count": 9,
   "metadata": {},
   "outputs": [
    {
     "ename": "NameError",
     "evalue": "name 'response' is not defined",
     "output_type": "error",
     "traceback": [
      "\u001b[0;31m---------------------------------------------------------------------------\u001b[0m",
      "\u001b[0;31mNameError\u001b[0m                                 Traceback (most recent call last)",
      "Cell \u001b[0;32mIn[9], line 4\u001b[0m\n\u001b[1;32m      1\u001b[0m \u001b[38;5;66;03m# Make sure to define this list before the loop\u001b[39;00m\n\u001b[1;32m      2\u001b[0m all_venue_data \u001b[38;5;241m=\u001b[39m []\n\u001b[0;32m----> 4\u001b[0m results \u001b[38;5;241m=\u001b[39m \u001b[43mresponse\u001b[49m\u001b[38;5;241m.\u001b[39mjson()\u001b[38;5;241m.\u001b[39mget(\u001b[38;5;124m\"\u001b[39m\u001b[38;5;124mbusinesses\u001b[39m\u001b[38;5;124m\"\u001b[39m, [])\n\u001b[1;32m      6\u001b[0m \u001b[38;5;28;01mfor\u001b[39;00m business \u001b[38;5;129;01min\u001b[39;00m results:\n\u001b[1;32m      7\u001b[0m     poi \u001b[38;5;241m=\u001b[39m {\n\u001b[1;32m      8\u001b[0m         \u001b[38;5;124m\"\u001b[39m\u001b[38;5;124mbusiness_name\u001b[39m\u001b[38;5;124m\"\u001b[39m: business\u001b[38;5;241m.\u001b[39mget(\u001b[38;5;124m\"\u001b[39m\u001b[38;5;124mname\u001b[39m\u001b[38;5;124m\"\u001b[39m),\n\u001b[1;32m      9\u001b[0m         \u001b[38;5;124m\"\u001b[39m\u001b[38;5;124mrating\u001b[39m\u001b[38;5;124m\"\u001b[39m: business\u001b[38;5;241m.\u001b[39mget(\u001b[38;5;124m\"\u001b[39m\u001b[38;5;124mrating\u001b[39m\u001b[38;5;124m\"\u001b[39m),\n\u001b[0;32m   (...)\u001b[0m\n\u001b[1;32m     21\u001b[0m         \u001b[38;5;124m\"\u001b[39m\u001b[38;5;124murl\u001b[39m\u001b[38;5;124m\"\u001b[39m: business\u001b[38;5;241m.\u001b[39mget(\u001b[38;5;124m\"\u001b[39m\u001b[38;5;124murl\u001b[39m\u001b[38;5;124m\"\u001b[39m)\n\u001b[1;32m     22\u001b[0m     }\n",
      "\u001b[0;31mNameError\u001b[0m: name 'response' is not defined"
     ]
    }
   ],
   "source": [
    "all_venue_data = []\n",
    "\n",
    "results = response.json().get(\"businesses\", [])\n",
    "\n",
    "for business in results:\n",
    "    poi = {\n",
    "        \"business_name\": business.get(\"name\"),\n",
    "        \"rating\": business.get(\"rating\"),\n",
    "        \"review_count\": business.get(\"review_count\"),\n",
    "        \"price\": business.get(\"price\", \"N/A\"),\n",
    "        \"distance_m\": business.get(\"distance\"),\n",
    "        \"latitude\": business[\"coordinates\"].get(\"latitude\"),\n",
    "        \"longitude\": business[\"coordinates\"].get(\"longitude\"),\n",
    "        \"categories\": \", \".join([cat[\"title\"] for cat in business.get(\"categories\", [])]),\n",
    "        \"address\": business[\"location\"].get(\"address1\", \"\"),\n",
    "        \"city\": business[\"location\"].get(\"city\", \"\"),\n",
    "        \"state\": business[\"location\"].get(\"state\", \"\"),\n",
    "        \"postal_code\": business[\"location\"].get(\"zip_code\", \"\"),\n",
    "        \"phone\": business.get(\"display_phone\", \"N/A\"),\n",
    "        \"url\": business.get(\"url\")\n",
    "    }\n",
    "\n",
    "    # Save each point of interest\n",
    "    all_venue_data.append(poi)"
   ]
  },
  {
   "cell_type": "markdown",
   "metadata": {},
   "source": [
    "Put your parsed results into a DataFrame"
   ]
  },
  {
   "cell_type": "code",
   "execution_count": 10,
   "metadata": {},
   "outputs": [
    {
     "name": "stderr",
     "output_type": "stream",
     "text": [
      "INFO:root:Collected data for 0 venues.\n",
      "INFO:root:Data saved to london_bike_stations_pois_yelp.csv\n"
     ]
    }
   ],
   "source": [
    "# Log the collected data \n",
    "logging.info(f\"Collected data for {len(all_venue_data)} venues.\")\n",
    "\n",
    "# Convert list of venues to dataframe\n",
    "df_venues = pd.DataFrame(all_venue_data)\n",
    "\n",
    "# Save the data to a csv file \n",
    "df_venues.to_csv(\"london_bike_stations_pois_yelp.csv\", index=False)\n",
    "logging.info(\"Data saved to london_bike_stations_pois_yelp.csv\")"
   ]
  },
  {
   "cell_type": "markdown",
   "metadata": {},
   "source": [
    "# Comparing Results"
   ]
  },
  {
   "cell_type": "markdown",
   "metadata": {},
   "source": [
    "Which API provided you with more complete data? Provide an explanation. "
   ]
  },
  {
   "cell_type": "markdown",
   "metadata": {},
   "source": [
    "Get the top 10 restaurants according to their rating"
   ]
  },
  {
   "cell_type": "code",
   "execution_count": 36,
   "metadata": {},
   "outputs": [
    {
     "name": "stderr",
     "output_type": "stream",
     "text": [
      "INFO:root:Collected data for 10400 venues.\n",
      "INFO:root:Data saved to london_bike_stations_pois_yelp.csv\n"
     ]
    }
   ],
   "source": [
    "# Log the collected data \n",
    "logging.info(f\"Collected data for {len(all_venue_data)} venues.\")\n",
    "\n",
    "# Convert list of venues to dataFrame\n",
    "df_venues = pd.DataFrame(all_venue_data)\n",
    "\n",
    "# Optionally, save the data to a csv file for later use\n",
    "df_venues.to_csv(\"london_bike_stations_pois_yelp.csv\", index=False)\n",
    "logging.info(\"Data saved to london_bike_stations_pois_yelp.csv\")"
   ]
  },
  {
   "cell_type": "code",
   "execution_count": 33,
   "metadata": {},
   "outputs": [
    {
     "name": "stdout",
     "output_type": "stream",
     "text": [
      "Total businesses found: 15600\n",
      "Via Emilia by FOOD ROOTS - 5.0\n",
      "Moira Restaurant - 5.0\n",
      "Pleasant Lady Jian Bing Trading Stall - 5.0\n",
      "Red Bar - 5.0\n",
      "Barbican Estate - 5.0\n",
      "Cafe Van Gogh - 5.0\n",
      "Murder Inc - 5.0\n",
      "Nepa Coffee & Food - 5.0\n",
      "Crol & co - 5.0\n",
      "Pure Indian Cooking - 5.0\n",
      "Skewers - 5.0\n",
      "Cous Cous Darna - 5.0\n",
      "Il Piccolo Diavolo - 5.0\n",
      "Kazu - 5.0\n",
      "Good And Proper Tea - 5.0\n",
      "Rainforest Creations - 5.0\n",
      "Chokhi Dhani - 5.0\n",
      "Second Shot Coffee - 5.0\n",
      "The Clifton - 5.0\n",
      "Nama Café and Cake House - 5.0\n",
      "Hot Chip - 5.0\n",
      "Terra Rossa - 5.0\n",
      "Scarpetta - 5.0\n",
      "39 Steps Coffee - 5.0\n",
      "Sir Sydney Smith - 5.0\n",
      "Pide - 5.0\n",
      "Kibele - 5.0\n",
      "Holloway Best Kebab - 5.0\n",
      "Merchant House - 5.0\n",
      "Jean-Georges - 5.0\n",
      "Trade - 5.0\n",
      "Delicatessen Restaurant - 5.0\n",
      "Patara Restaurant - 5.0\n",
      "The Black Cab Coffee Co - 5.0\n",
      "Oi Vita Pizzeria - 5.0\n",
      "Da Terra - 5.0\n",
      "Chojo - 5.0\n",
      "Vinarius Wine Shop and Bar - 5.0\n",
      "Noble Espresso - 5.0\n",
      "Sinuhe Restaurant - 5.0\n",
      "Beer + Burger - 5.0\n",
      "Gastronhome - 5.0\n",
      "Boki - 5.0\n",
      "Istanbul Mangal - 5.0\n",
      "The Fumoir Bar - 5.0\n",
      "African Volcano - 5.0\n",
      "The lebanese bakery - 5.0\n",
      "Shoop Soup Shop - 5.0\n",
      "The Bay Leaf Café - 5.0\n",
      "The Garden at 120 - 5.0\n"
     ]
    }
   ],
   "source": [
    "import requests\n",
    "\n",
    "headers = {\n",
    "    \"Authorization\": f\"Bearer {YELP_API_KEY}\"\n",
    "}\n",
    "\n",
    "latitude = 51.5074  # Central London\n",
    "longitude = -0.1278\n",
    "radius = 5000  # 5km\n",
    "\n",
    "params = {\n",
    "    \"latitude\": latitude,\n",
    "    \"longitude\": longitude,\n",
    "    \"radius\": radius,\n",
    "    \"sort_by\": \"rating\",\n",
    "    \"limit\": 50\n",
    "}\n",
    "\n",
    "response = requests.get(\"https://api.yelp.com/v3/businesses/search\", headers=headers, params=params)\n",
    "data = response.json()\n",
    "\n",
    "print(\"Total businesses found:\", data.get('total', 0))\n",
    "\n",
    "for business in data.get('businesses', []):\n",
    "    print(business['name'], \"-\", business['rating'])"
   ]
  }
 ],
 "metadata": {
  "kernelspec": {
   "display_name": "testEnv",
   "language": "python",
   "name": "testenv"
  },
  "language_info": {
   "codemirror_mode": {
    "name": "ipython",
    "version": 3
   },
   "file_extension": ".py",
   "mimetype": "text/x-python",
   "name": "python",
   "nbconvert_exporter": "python",
   "pygments_lexer": "ipython3",
   "version": "3.10.17"
  }
 },
 "nbformat": 4,
 "nbformat_minor": 4
}
