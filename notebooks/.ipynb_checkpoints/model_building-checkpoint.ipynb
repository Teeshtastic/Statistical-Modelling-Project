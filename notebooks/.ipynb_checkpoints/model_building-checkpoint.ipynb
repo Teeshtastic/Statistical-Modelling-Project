{
 "cells": [
  {
   "cell_type": "markdown",
   "metadata": {},
   "source": [
    "Build a regression model."
   ]
  },
  {
   "cell_type": "code",
   "execution_count": 4,
   "metadata": {},
   "outputs": [
    {
     "name": "stdout",
     "output_type": "stream",
     "text": [
      "Mean Squared Error: 151.62400714285715\n",
      "R² Score: -0.16211715076492594\n"
     ]
    },
    {
     "data": {
      "image/png": "[encoded data removed]",
      "text/plain": [
       "<Figure size 800x500 with 1 Axes>"
      ]
     },
     "metadata": {},
     "output_type": "display_data"
    }
   ],
   "source": [
    "import pandas as pd\n",
    "import sqlite3\n",
    "from sklearn.model_selection import train_test_split\n",
    "from sklearn.ensemble import RandomForestRegressor\n",
    "from sklearn.metrics import mean_squared_error, r2_score\n",
    "import matplotlib.pyplot as plt\n",
    "\n",
    "# Load data from SQLite\n",
    "conn = sqlite3.connect('data/london_bike_stations.db')\n",
    "df = pd.read_sql_query(\"SELECT * FROM bike_station_pois\", conn)\n",
    "conn.close()\n",
    "\n",
    "# Drop rows with missing values in relevant columns\n",
    "df = df.dropna(subset=['station_name', 'rating', 'review_count', 'distance_m', 'empty_slots'])\n",
    "\n",
    "# Encode category diversity (number of unique categories per station)\n",
    "df['categories'] = df['categories'].astype(str)  # Ensure it's a string\n",
    "category_diversity = df.groupby('station_name')['categories'].nunique().reset_index(name='unique_categories')\n",
    "\n",
    "# Aggregate data by station\n",
    "agg_df = df.groupby('station_name').agg({\n",
    "    'empty_slots': 'first',\n",
    "    'rating': 'mean',\n",
    "    'review_count': 'mean',\n",
    "    'distance_m': 'mean'\n",
    "}).reset_index()\n",
    "\n",
    "# Merge category diversity back\n",
    "agg_df = pd.merge(agg_df, category_diversity, on='station_name', how='left')\n",
    "\n",
    "# Define features (X) and target (y)\n",
    "X = agg_df[['rating', 'review_count', 'distance_m', 'unique_categories']]\n",
    "y = agg_df['empty_slots']\n",
    "\n",
    "# Split dataset\n",
    "X_train, X_test, y_train, y_test = train_test_split(X, y, test_size=0.2, random_state=42)\n",
    "\n",
    "# Fit Random Forest Regressor\n",
    "model = RandomForestRegressor(random_state=42)\n",
    "model.fit(X_train, y_train)\n",
    "\n",
    "# Predict and evaluate\n",
    "y_pred = model.predict(X_test)\n",
    "print(\"Mean Squared Error:\", mean_squared_error(y_test, y_pred))\n",
    "print(\"R² Score:\", r2_score(y_test, y_pred))\n",
    "\n",
    "# Feature Importance Plot\n",
    "importances = model.feature_importances_\n",
    "feature_names = X.columns\n",
    "\n",
    "plt.figure(figsize=(8, 5))\n",
    "plt.barh(feature_names, importances, color='skyblue')\n",
    "plt.xlabel('Importance')\n",
    "plt.title('Feature Importance for Predicting Empty Slots')\n",
    "plt.tight_layout()\n",
    "plt.show()"
   ]
  },
  {
   "cell_type": "code",
   "execution_count": null,
   "metadata": {},
   "outputs": [],
   "source": []
  },
  {
   "cell_type": "markdown",
   "metadata": {},
   "source": [
    "Provide model output and an interpretation of the results. "
   ]
  },
  {
   "cell_type": "code",
   "execution_count": null,
   "metadata": {},
   "outputs": [],
   "source": [
    "\n",
    "🧮 Mean Squared Error (MSE)\n",
    "\t•\t151.62 is quite high (especially since bike station slots typically range from, say, 0–40), suggesting large errors in predictions.\n",
    "\t•\tThis means the model is often far off in predicting the number of empty slots.\n",
    "\n",
    "📉 R² Score: -0.16\n",
    "\t•\tA negative R² means the model performs worse than just predicting the mean value of empty_slots for every station.\n",
    "\t•\tIn simple terms: the model is not capturing any useful patterns in the data.\n",
    "\n",
    "⸻\n",
    "\n",
    "🔍 Possible Reasons Why\n",
    "\t1.\tWeak or unrelated features:\n",
    "\t•\trating, review_count, distance_m, and unique_categories may not be strongly predictive of empty slots.\n",
    "\t2.\tData quality issues:\n",
    "\t•\tempty_slots might not reflect demand (e.g. could be impacted by maintenance, data sync issues, etc.).\n",
    "\t•\tFeature values like review_count and rating might not vary much across locations.\n",
    "\t3.\tSample size:\n",
    "\t•\tIf the number of stations is small, the model might not have enough examples to learn meaningful patterns."
   ]
  },
  {
   "cell_type": "markdown",
   "metadata": {},
   "source": [
    "# Stretch"
   ]
  },
  {
   "cell_type": "markdown",
   "metadata": {},
   "source": [
    "How can you turn the regression model into a classification model?"
   ]
  },
  {
   "cell_type": "code",
   "execution_count": 8,
   "metadata": {},
   "outputs": [],
   "source": [
    "import pandas as pd\n",
    "\n",
    "# Binning empty_slots into 3 classes: low, medium, high\n",
    "def classify_empty_slots(x):\n",
    "    if x <= 5:\n",
    "        return 'low'\n",
    "    elif x <= 15:\n",
    "        return 'medium'\n",
    "    else:\n",
    "        return 'high'\n",
    "\n",
    "df['availability_class'] = df['empty_slots'].apply(classify_empty_slots)"
   ]
  },
  {
   "cell_type": "code",
   "execution_count": 7,
   "metadata": {},
   "outputs": [],
   "source": [
    "# First, calculate number of unique categories per station\n",
    "category_counts = df.groupby('name')['categories'].nunique().reset_index()\n",
    "category_counts.rename(columns={'categories': 'unique_categories'}, inplace=True)\n",
    "\n",
    "# Merge this back into the main DataFrame\n",
    "df = df.merge(category_counts, on='name', how='left')"
   ]
  },
  {
   "cell_type": "code",
   "execution_count": 9,
   "metadata": {},
   "outputs": [
    {
     "name": "stdout",
     "output_type": "stream",
     "text": [
      "              precision    recall  f1-score   support\n",
      "\n",
      "        high       0.54      0.62      0.58       683\n",
      "         low       0.50      0.47      0.49       669\n",
      "      medium       0.43      0.40      0.41       728\n",
      "\n",
      "    accuracy                           0.49      2080\n",
      "   macro avg       0.49      0.50      0.49      2080\n",
      "weighted avg       0.49      0.49      0.49      2080\n",
      "\n"
     ]
    }
   ],
   "source": [
    "from sklearn.ensemble import RandomForestClassifier\n",
    "from sklearn.model_selection import train_test_split\n",
    "from sklearn.metrics import classification_report\n",
    "\n",
    "# Define features and target\n",
    "features = ['rating', 'review_count', 'distance_m', 'unique_categories']\n",
    "X = df[features]\n",
    "y = df['availability_class']\n",
    "\n",
    "# Train/test split\n",
    "X_train, X_test, y_train, y_test = train_test_split(X, y, test_size=0.2, random_state=42)\n",
    "\n",
    "# Train classifier\n",
    "clf = RandomForestClassifier(random_state=42)\n",
    "clf.fit(X_train, y_train)\n",
    "\n",
    "# Predict and evaluate\n",
    "y_pred = clf.predict(X_test)\n",
    "print(classification_report(y_test, y_pred))"
   ]
  },
  {
   "cell_type": "code",
   "execution_count": null,
   "metadata": {},
   "outputs": [],
   "source": []
  }
 ],
 "metadata": {
  "kernelspec": {
   "display_name": "testEnv",
   "language": "python",
   "name": "testenv"
  },
  "language_info": {
   "codemirror_mode": {
    "name": "ipython",
    "version": 3
   },
   "file_extension": ".py",
   "mimetype": "text/x-python",
   "name": "python",
   "nbconvert_exporter": "python",
   "pygments_lexer": "ipython3",
   "version": "3.10.17"
  }
 },
 "nbformat": 4,
 "nbformat_minor": 4
}
