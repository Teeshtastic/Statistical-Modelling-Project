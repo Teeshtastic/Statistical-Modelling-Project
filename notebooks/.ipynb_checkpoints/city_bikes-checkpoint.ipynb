{
 "cells": [
  {
   "cell_type": "markdown",
   "metadata": {},
   "source": [
    "Send a request to CityBikes for the city of your choice. "
   ]
  },
  {
   "cell_type": "code",
   "execution_count": 3,
   "metadata": {},
   "outputs": [],
   "source": [
    "import requests\n",
    "import json\n",
    "import pandas as pd\n",
    "from IPython.display import JSON "
   ]
  },
  {
   "cell_type": "code",
   "execution_count": null,
   "metadata": {},
   "outputs": [],
   "source": [
    "networks = data['networks']\n",
    "\n",
    "london_networks = [n for n in networks if 'london' in n['location']['city'].lower()]\n",
    "\n",
    "for net in london_networks:\n",
    "    print(f\"{net['name']} → ID: {net['id']}\")"
   ]
  },
  {
   "cell_type": "code",
   "execution_count": null,
   "metadata": {},
   "outputs": [],
   "source": [
    "london_url = \"http://api.citybik.es/v2/networks/santander-cycles\"\n",
    "london_data = requests.get(london_url).json()\n",
    "stations = london_data['network']['stations']"
   ]
  },
  {
   "cell_type": "code",
   "execution_count": null,
   "metadata": {},
   "outputs": [],
   "source": [
    "#Get the first 5 London networks\n",
    "first_five = london_networks[:5]\n",
    "\n",
    "#Pretty print \n",
    "print(json.dumps(first_five, indent=4))"
   ]
  },
  {
   "cell_type": "code",
   "execution_count": null,
   "metadata": {},
   "outputs": [],
   "source": [
    "network_json = requests.get(\"http://api.citybik.es/v2/networks/santander-cycles\").json()"
   ]
  },
  {
   "cell_type": "code",
   "execution_count": null,
   "metadata": {},
   "outputs": [],
   "source": [
    "#Creating lists of values from the json\n",
    "names = [station['name'] for station in network_json['network']['stations']]\n",
    "longitude = [station['longitude'] for station in network_json['network']['stations']]\n",
    "latitude = [station['latitude'] for station in network_json['network']['stations']]"
   ]
  },
  {
   "cell_type": "markdown",
   "metadata": {},
   "source": [
    "Parse through the response to get the details you want for the bike stations in that city (latitude, longitude, number of bikes). "
   ]
  },
  {
   "cell_type": "code",
   "execution_count": null,
   "metadata": {},
   "outputs": [],
   "source": [
    "import requests\n",
    "\n",
    "# Fetch the network data for London (Santander Cycles)\n",
    "url = \"https://api.citybik.es/v2/networks/santander-cycles\"\n",
    "response = requests.get(url)\n",
    "\n",
    "# Check response and parse data\n",
    "if response.status_code == 200:\n",
    "    network_data = response.json()\n",
    "\n",
    "# Extract stations\n",
    "    stations = network_data['network']['stations']\n",
    "\n",
    "# Collect and print data for first 10 stations\n",
    "    for s in stations[:10]:  # just 10 stations\n",
    "        total_bikes = s['free_bikes'] + s['empty_slots'] if s['free_bikes'] is not None and s['empty_slots'] is not None else None\n",
    "        print(\n",
    "            f\"{s['name']} → Lat: {s['latitude']}, Lon: {s['longitude']}, \"\n",
    "            f\"Free bikes: {s['free_bikes']}, Total docks: {total_bikes}\"\n",
    "        )\n",
    "else:\n",
    "    print(f\"Error fetching data: {response.status_code}\")"
   ]
  },
  {
   "cell_type": "code",
   "execution_count": null,
   "metadata": {},
   "outputs": [],
   "source": [
    "# Extract stations\n",
    "stations = network_data['network']['stations']\n",
    "\n",
    "# Collect data for all stations\n",
    "london_stations = [\n",
    "    {\n",
    "        'name': s['name'],\n",
    "        'latitude': s['latitude'],\n",
    "        'longitude': s['longitude'],\n",
    "        'free_bikes': s['free_bikes'],\n",
    "        'empty_slots': s['empty_slots'],\n",
    "        'total_bikes': s['free_bikes'] + s['empty_slots'] if s['free_bikes'] is not None and s['empty_slots'] is not None else None\n",
    "    }\n",
    "    for s in stations\n",
    "]\n",
    "\n",
    "# Display results\n",
    "for station in london_stations:\n",
    "    print(\n",
    "        f\"{station['name']} → \"\n",
    "        f\"Lat: {station['latitude']}, Lon: {station['longitude']}, \"\n",
    "        f\"Free bikes: {station['free_bikes']}, Total docks: {station['total_bikes']}\"\n",
    "    )"
   ]
  },
  {
   "cell_type": "markdown",
   "metadata": {},
   "source": [
    "Put your parsed results into a DataFrame."
   ]
  },
  {
   "cell_type": "code",
   "execution_count": null,
   "metadata": {},
   "outputs": [],
   "source": [
    "# Convert to dataframe and display\n",
    "df_london_bikes = pd.DataFrame(london_stations)\n",
    "print(df_london_bikes.head())"
   ]
  },
  {
   "cell_type": "code",
   "execution_count": null,
   "metadata": {},
   "outputs": [],
   "source": [
    "df_london_bikes.to_csv('london_bike_stations.csv', index=False)"
   ]
  }
 ],
 "metadata": {
  "kernelspec": {
   "display_name": "testEnv",
   "language": "python",
   "name": "testenv"
  },
  "language_info": {
   "codemirror_mode": {
    "name": "ipython",
    "version": 3
   },
   "file_extension": ".py",
   "mimetype": "text/x-python",
   "name": "python",
   "nbconvert_exporter": "python",
   "pygments_lexer": "ipython3",
   "version": "3.10.17"
  }
 },
 "nbformat": 4,
 "nbformat_minor": 4
}
