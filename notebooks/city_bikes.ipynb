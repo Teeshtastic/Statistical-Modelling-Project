{
 "cells": [
  {
   "cell_type": "markdown",
   "metadata": {},
   "source": [
    "# CityBikes"
   ]
  },
  {
   "cell_type": "markdown",
   "metadata": {},
   "source": [
    "Send a request to CityBikes for the city of your choice. "
   ]
  },
  {
   "cell_type": "code",
   "execution_count": 8,
   "metadata": {},
   "outputs": [],
   "source": [
    "import requests\n",
    "import json\n",
    "import pandas as pd\n",
    "from IPython.display import JSON  # for nice JSON (or dict) display in JupyterLab \n"
   ]
  },
  {
   "cell_type": "code",
   "execution_count": 9,
   "metadata": {},
   "outputs": [
    {
     "name": "stdout",
     "output_type": "stream",
     "text": [
      "[\n",
      "    {\n",
      "        \"id\": \"abu-dhabi-careem-bike\",\n",
      "        \"name\": \"Abu Dhabi Careem BIKE\",\n",
      "        \"location\": {\n",
      "            \"latitude\": 24.4866,\n",
      "            \"longitude\": 54.3728,\n",
      "            \"city\": \"Abu Dhabi\",\n",
      "            \"country\": \"AE\"\n",
      "        },\n",
      "        \"href\": \"/v2/networks/abu-dhabi-careem-bike\",\n",
      "        \"company\": [\n",
      "            \"Careem\"\n",
      "        ],\n",
      "        \"gbfs_href\": \"https://dubai.publicbikesystem.net/customer/gbfs/v2/en/gbfs.json\"\n",
      "    },\n",
      "    {\n",
      "        \"id\": \"acces-velo-saguenay\",\n",
      "        \"name\": \"Acc\\u00e8s V\\u00e9lo\",\n",
      "        \"location\": {\n",
      "            \"latitude\": 48.433333,\n",
      "            \"longitude\": -71.083333,\n",
      "            \"city\": \"Saguenay\",\n",
      "            \"country\": \"CA\"\n",
      "        },\n",
      "        \"href\": \"/v2/networks/acces-velo-saguenay\",\n",
      "        \"company\": [\n",
      "            \"PBSC Urban Solutions\"\n",
      "        ],\n",
      "        \"gbfs_href\": \"https://saguenay.publicbikesystem.net/customer/gbfs/v2/gbfs.json\"\n",
      "    },\n",
      "    {\n",
      "        \"id\": \"aksu\",\n",
      "        \"name\": \"Aksu\",\n",
      "        \"location\": {\n",
      "            \"latitude\": 41.1664,\n",
      "            \"longitude\": 80.2617,\n",
      "            \"city\": \"\\u963f\\u514b\\u82cf\\u5e02 (Aksu City)\",\n",
      "            \"country\": \"CN\"\n",
      "        },\n",
      "        \"href\": \"/v2/networks/aksu\",\n",
      "        \"company\": [\n",
      "            \"\\u963f\\u514b\\u82cf\\u516c\\u5171\\u670d\\u52a1\"\n",
      "        ]\n",
      "    },\n",
      "    {\n",
      "        \"id\": \"alba\",\n",
      "        \"name\": \"Alba\",\n",
      "        \"location\": {\n",
      "            \"latitude\": 44.716667,\n",
      "            \"longitude\": 8.083333,\n",
      "            \"city\": \"Alba\",\n",
      "            \"country\": \"IT\"\n",
      "        },\n",
      "        \"href\": \"/v2/networks/alba\",\n",
      "        \"company\": [\n",
      "            \"Comunicare S.r.l.\"\n",
      "        ],\n",
      "        \"system\": \"Bicincitt\\u00e0\",\n",
      "        \"source\": \"https://www.bicincitta.com/frmLeStazioni.aspx?ID=139\"\n",
      "    },\n",
      "    {\n",
      "        \"id\": \"albabici\",\n",
      "        \"name\": \"AlbaBici\",\n",
      "        \"location\": {\n",
      "            \"latitude\": 38.9943,\n",
      "            \"longitude\": -1.8602,\n",
      "            \"city\": \"Albacete\",\n",
      "            \"country\": \"ES\"\n",
      "        },\n",
      "        \"href\": \"/v2/networks/albabici\",\n",
      "        \"company\": [\n",
      "            \"Instituto Tecnol\\u00f3gico de Castilla y Le\\u00f3n (ITCL)\"\n",
      "        ],\n",
      "        \"system\": \"bicicard\"\n",
      "    }\n",
      "]\n"
     ]
    }
   ],
   "source": [
    "\n",
    "# Get network data\n",
    "city_bike_networks = requests.get(\"http://api.citybik.es/v2/networks\").json()\n",
    "\n",
    "# Get the first 5 networks\n",
    "first_five = city_bike_networks['networks'][:5]\n",
    "\n",
    "# Pretty print them\n",
    "print(json.dumps(first_five, indent=4))"
   ]
  },
  {
   "cell_type": "code",
   "execution_count": 13,
   "metadata": {},
   "outputs": [],
   "source": [
    "network_json = requests.get(\"http://api.citybik.es/v2/networks/santander-cycles\").json()"
   ]
  },
  {
   "cell_type": "code",
   "execution_count": 14,
   "metadata": {},
   "outputs": [],
   "source": [
    "# creating lists of values from the json\n",
    "names = [station['name'] for station in network_json['network']['stations']]\n",
    "longitude = [station['longitude'] for station in network_json['network']['stations']]\n",
    "latitude = [station['latitude'] for station in network_json['network']['stations']]"
   ]
  },
  {
   "cell_type": "markdown",
   "metadata": {},
   "source": [
    "Parse through the response to get the details you want for the bike stations in that city (latitude, longitude, number of bikes). "
   ]
  },
  {
   "cell_type": "code",
   "execution_count": 15,
   "metadata": {},
   "outputs": [
    {
     "name": "stdout",
     "output_type": "stream",
     "text": [
      "001152 - Marylebone Lane, Marylebone → Lat: 51.51475963, Lon: -0.148105415, Free bikes: 2, Total docks: 23\n",
      "200198 - Seymour Place, Marylebone → Lat: 51.520331, Lon: -0.163667, Free bikes: 13, Total docks: 29\n",
      "001194 - Westminster University, Marylebone → Lat: 51.52248185, Lon: -0.154907218, Free bikes: 8, Total docks: 16\n",
      "010630 - George Place Mews, Marylebone → Lat: 51.51689296, Lon: -0.158249929, Free bikes: 0, Total docks: 15\n",
      "002693 - Shouldham Street, Marylebone → Lat: 51.51809, Lon: -0.163609, Free bikes: 15, Total docks: 15\n",
      "200008 - Portman Square, Marylebone → Lat: 51.516204, Lon: -0.155525, Free bikes: 0, Total docks: 17\n",
      "200005 - New Cavendish Street, Marylebone → Lat: 51.519167, Lon: -0.147983, Free bikes: 1, Total docks: 18\n",
      "001058 - Edgware Road Station, Marylebone → Lat: 51.519968, Lon: -0.169774, Free bikes: 6, Total docks: 63\n",
      "003482 - Beaumont Street, Marylebone → Lat: 51.52200801, Lon: -0.151359288, Free bikes: 5, Total docks: 22\n",
      "001085 - Old Quebec Street, Marylebone → Lat: 51.51457763, Lon: -0.158264483, Free bikes: 0, Total docks: 16\n",
      "001162 - Dorset Square, Marylebone → Lat: 51.5225965, Lon: -0.161113413, Free bikes: 2, Total docks: 13\n",
      "001175 - Mallory Street, Marylebone → Lat: 51.52505151, Lon: -0.166304359, Free bikes: 7, Total docks: 19\n",
      "001166 - Bell Street , Marylebone → Lat: 51.52202903, Lon: -0.165842551, Free bikes: 17, Total docks: 17\n",
      "001003 - Chapel Place, Marylebone → Lat: 51.51530805, Lon: -0.147203711, Free bikes: 0, Total docks: 29\n",
      "003424 - Broadcasting House, Marylebone → Lat: 51.51811784, Lon: -0.144228881, Free bikes: 0, Total docks: 17\n",
      "010625 - Penfold Street, Marylebone → Lat: 51.52289229, Lon: -0.171681991, Free bikes: 9, Total docks: 15\n",
      "001035 - Boston Place, Marylebone → Lat: 51.522511, Lon: -0.162298, Free bikes: 21, Total docks: 24\n",
      "001225 - George Street, Marylebone → Lat: 51.517703, Lon: -0.154106, Free bikes: 0, Total docks: 26\n",
      "300072 - Broadley Terrace, Marylebone → Lat: 51.52456169, Lon: -0.165668686, Free bikes: 8, Total docks: 17\n",
      "001112 - Nutford Place, Marylebone → Lat: 51.5165179, Lon: -0.164393768, Free bikes: 6, Total docks: 15\n",
      "001086 - Baker Street, Marylebone → Lat: 51.51891348, Lon: -0.156166631, Free bikes: 3, Total docks: 21\n",
      "001164 - Portland Place, Marylebone → Lat: 51.52071513, Lon: -0.14521173, Free bikes: 0, Total docks: 34\n",
      "001033 - Paddington Street, Marylebone → Lat: 51.52058381, Lon: -0.154701411, Free bikes: 0, Total docks: 15\n",
      "003476 - Hinde Street, Marylebone → Lat: 51.51681444, Lon: -0.151926305, Free bikes: 0, Total docks: 20\n",
      "001036 - Crawford Street, Marylebone → Lat: 51.52026, Lon: -0.157183945, Free bikes: 0, Total docks: 16\n",
      "002680 - Harrowby Street, Marylebone → Lat: 51.5173721, Lon: -0.1642075, Free bikes: 2, Total docks: 16\n"
     ]
    }
   ],
   "source": [
    "# Extract stations\n",
    "stations = network_json['network']['stations']\n",
    "\n",
    "# Filter for stations with 'Marylebone' in the name (case-insensitive)\n",
    "marylebone_stations = [\n",
    "    {\n",
    "        'name': s['name'],\n",
    "        'latitude': s['latitude'],\n",
    "        'longitude': s['longitude'],\n",
    "        'free_bikes': s['free_bikes'],\n",
    "        'empty_slots': s['empty_slots'],\n",
    "        'total_bikes': s['free_bikes'] + s['empty_slots'] if s['free_bikes'] is not None and s['empty_slots'] is not None else None\n",
    "    }\n",
    "    for s in stations\n",
    "    if 'marylebone' in s['name'].lower()\n",
    "]\n",
    "\n",
    "# Display results\n",
    "for station in marylebone_stations:\n",
    "    print(\n",
    "        f\"{station['name']} → \"\n",
    "        f\"Lat: {station['latitude']}, Lon: {station['longitude']}, \"\n",
    "        f\"Free bikes: {station['free_bikes']}, Total docks: {station['total_bikes']}\"\n",
    "    )"
   ]
  },
  {
   "cell_type": "markdown",
   "metadata": {},
   "source": [
    "Put your parsed results into a DataFrame."
   ]
  },
  {
   "cell_type": "code",
   "execution_count": 16,
   "metadata": {},
   "outputs": [
    {
     "name": "stdout",
     "output_type": "stream",
     "text": [
      "                                           name   latitude  longitude  \\\n",
      "0          001152 - Marylebone Lane, Marylebone  51.514760  -0.148105   \n",
      "1            200198 - Seymour Place, Marylebone  51.520331  -0.163667   \n",
      "2   001194 - Westminster University, Marylebone  51.522482  -0.154907   \n",
      "3        010630 - George Place Mews, Marylebone  51.516893  -0.158250   \n",
      "4         002693 - Shouldham Street, Marylebone  51.518090  -0.163609   \n",
      "5           200008 - Portman Square, Marylebone  51.516204  -0.155525   \n",
      "6     200005 - New Cavendish Street, Marylebone  51.519167  -0.147983   \n",
      "7     001058 - Edgware Road Station, Marylebone  51.519968  -0.169774   \n",
      "8          003482 - Beaumont Street, Marylebone  51.522008  -0.151359   \n",
      "9        001085 - Old Quebec Street, Marylebone  51.514578  -0.158264   \n",
      "10           001162 - Dorset Square, Marylebone  51.522596  -0.161113   \n",
      "11          001175 - Mallory Street, Marylebone  51.525052  -0.166304   \n",
      "12            001166 - Bell Street , Marylebone  51.522029  -0.165843   \n",
      "13            001003 - Chapel Place, Marylebone  51.515308  -0.147204   \n",
      "14      003424 - Broadcasting House, Marylebone  51.518118  -0.144229   \n",
      "15          010625 - Penfold Street, Marylebone  51.522892  -0.171682   \n",
      "16            001035 - Boston Place, Marylebone  51.522511  -0.162298   \n",
      "17           001225 - George Street, Marylebone  51.517703  -0.154106   \n",
      "18        300072 - Broadley Terrace, Marylebone  51.524562  -0.165669   \n",
      "19           001112 - Nutford Place, Marylebone  51.516518  -0.164394   \n",
      "20            001086 - Baker Street, Marylebone  51.518913  -0.156167   \n",
      "21          001164 - Portland Place, Marylebone  51.520715  -0.145212   \n",
      "22       001033 - Paddington Street, Marylebone  51.520584  -0.154701   \n",
      "23            003476 - Hinde Street, Marylebone  51.516814  -0.151926   \n",
      "24         001036 - Crawford Street, Marylebone  51.520260  -0.157184   \n",
      "25         002680 - Harrowby Street, Marylebone  51.517372  -0.164208   \n",
      "\n",
      "    free_bikes  empty_slots  total_bikes  \n",
      "0            2           21           23  \n",
      "1           13           16           29  \n",
      "2            8            8           16  \n",
      "3            0           15           15  \n",
      "4           15            0           15  \n",
      "5            0           17           17  \n",
      "6            1           17           18  \n",
      "7            6           57           63  \n",
      "8            5           17           22  \n",
      "9            0           16           16  \n",
      "10           2           11           13  \n",
      "11           7           12           19  \n",
      "12          17            0           17  \n",
      "13           0           29           29  \n",
      "14           0           17           17  \n",
      "15           9            6           15  \n",
      "16          21            3           24  \n",
      "17           0           26           26  \n",
      "18           8            9           17  \n",
      "19           6            9           15  \n",
      "20           3           18           21  \n",
      "21           0           34           34  \n",
      "22           0           15           15  \n",
      "23           0           20           20  \n",
      "24           0           16           16  \n",
      "25           2           14           16  \n"
     ]
    }
   ],
   "source": [
    "# Create DataFrame\n",
    "df_marylebone = pd.DataFrame(marylebone_stations)\n",
    "\n",
    "# Display the DataFrame\n",
    "print(df_marylebone)\n"
   ]
  },
  {
   "cell_type": "code",
   "execution_count": 17,
   "metadata": {},
   "outputs": [],
   "source": [
    "df_marylebone.to_csv('marylebone_bike_stations.csv', index=False)"
   ]
  }
 ],
 "metadata": {
  "kernelspec": {
   "display_name": "Python 3 (ipykernel)",
   "language": "python",
   "name": "python3"
  },
  "language_info": {
   "codemirror_mode": {
    "name": "ipython",
    "version": 3
   },
   "file_extension": ".py",
   "mimetype": "text/x-python",
   "name": "python",
   "nbconvert_exporter": "python",
   "pygments_lexer": "ipython3",
   "version": "3.13.2"
  }
 },
 "nbformat": 4,
 "nbformat_minor": 4
}
